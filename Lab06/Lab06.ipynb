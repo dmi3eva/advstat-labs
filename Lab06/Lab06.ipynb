{
 "cells": [
  {
   "cell_type": "code",
   "execution_count": 2,
   "metadata": {
    "collapsed": false
   },
   "outputs": [
    {
     "name": "stdout",
     "output_type": "stream",
     "text": [
      "alpha =  0.05\n",
      "+ Normal distribution similar to be normal\n",
      "- Double exponential distribution far from normal\n",
      "- T distribution far from normal\n",
      "- Log-n distribution far from normal\n"
     ]
    }
   ],
   "source": [
    "import numpy as np\n",
    "import scipy.stats as ss\n",
    "sigma = 1\n",
    "mu = 0\n",
    "n = 1000\n",
    "\n",
    "def ecdf(sample, x):\n",
    "    amount = len(list(filter(lambda l: l <= x, sample)))\n",
    "    return (amount * 1.0 / len(sample))\n",
    "\n",
    "def Dnx(sample, x):\n",
    "    return ecdf(sample,x) - ss.norm.cdf(x) \n",
    "\n",
    "def Dn(sample):\n",
    "   \n",
    "    sup = 0\n",
    "    for i in range(len(sample)):\n",
    "        if (abs(Dnx(sample, sample[i])) > sup):\n",
    "            sup = abs(Dnx(sample, sample[i]))\n",
    "        \n",
    "    return sup\n",
    "\n",
    "import math\n",
    "def correction(Dval):\n",
    "    return Dval * (math.sqrt(n) - 0.01 + 0.85 / math.sqrt(n))\n",
    "\n",
    "sample_num  = 4\n",
    "sample_name = ['Normal', 'Double exponential', 'T', 'Log-n']\n",
    "normal_sample = np.random.randn(n) * sigma + mu\n",
    "double_exp_sample = np.random.exponential(size=n) \n",
    "t_sample = np.random.standard_t(df =3, size=n)\n",
    "logn_sample = np.random.lognormal(mean=mu, sigma=sigma, size=n)\n",
    "samples = [normal_sample, double_exp_sample, t_sample, logn_sample]\n",
    "\n",
    "alpha = 0.05\n",
    "kvant = 0.895\n",
    "print 'alpha = ', alpha\n",
    "\n",
    "\n",
    "for i in range (sample_num):\n",
    "    \n",
    "    if (correction(Dn(samples[i])) < kvant):\n",
    "        print(\"+ \" + sample_name[i] + \" distribution similar to be normal\")\n",
    "    else:\n",
    "        print(\"- \" + sample_name[i] + \" distribution far from normal\")"
   ]
  },
  {
   "cell_type": "markdown",
   "metadata": {
    "collapsed": true
   },
   "source": [
    "With n < 20 T-distribution belongs to normal (alpha = 0.05)"
   ]
  },
  {
   "cell_type": "code",
   "execution_count": null,
   "metadata": {
    "collapsed": false
   },
   "outputs": [
    {
     "name": "stdout",
     "output_type": "stream",
     "text": [
      "alpha =  0.05\n",
      "- Data from file 1 far from normal\n"
     ]
    }
   ],
   "source": [
    "import pandas as pd\n",
    "\n",
    "data1 = pd.read_csv(\"dataset1.txt\")\n",
    "data2 = pd.read_csv(\"dataset2.txt\")\n",
    "d1 = data1.as_matrix()\n",
    "d2 = data2.as_matrix()\n",
    "\n",
    "print 'alpha = ', alpha\n",
    "print(correction(Dn(d1)))\n",
    "if (correction(Dn(d1)) < kvant):\n",
    "    print(\"+ Data from file 1 similar to be normal\")\n",
    "else:\n",
    "    print(\"- Data from file 1 far from normal\")\n",
    "\n",
    "print(correction(Dn(d2)))\n",
    "if (correction(Dn(d2)) < kvant):\n",
    "    print(\"+ Data from file 2 similar to be normal\")\n",
    "else:\n",
    "    print(\"- Data from file 2 far from normal\")"
   ]
  },
  {
   "cell_type": "code",
   "execution_count": null,
   "metadata": {
    "collapsed": true
   },
   "outputs": [],
   "source": []
  },
  {
   "cell_type": "code",
   "execution_count": null,
   "metadata": {
    "collapsed": true
   },
   "outputs": [],
   "source": []
  }
 ],
 "metadata": {
  "anaconda-cloud": {},
  "kernelspec": {
   "display_name": "Python [conda root]",
   "language": "python",
   "name": "conda-root-py"
  },
  "language_info": {
   "codemirror_mode": {
    "name": "ipython",
    "version": 2
   },
   "file_extension": ".py",
   "mimetype": "text/x-python",
   "name": "python",
   "nbconvert_exporter": "python",
   "pygments_lexer": "ipython2",
   "version": "2.7.12"
  }
 },
 "nbformat": 4,
 "nbformat_minor": 2
}
