{
 "cells": [
  {
   "cell_type": "code",
   "execution_count": 28,
   "metadata": {
    "collapsed": false
   },
   "outputs": [
    {
     "name": "stdout",
     "output_type": "stream",
     "text": [
      "REAL | ESTIMATED from SAMPLE | JACKKNIFE\n",
      "Normal, mean\n",
      "(0, 0.045289607561896664, 0.045289607561892667)\n",
      "Normal, skewness\n",
      "(0, 0.045289607561896664, 0.03171306845380141)\n",
      "Normal, median\n",
      "(0, 0.045289607561896664, 2.5423122857483484)\n",
      "Log-normal, mean\n",
      "(1.0, 1.5023762697680936, 1.5023762697681304)\n",
      "Log-normal, median\n",
      "(1.0, 1.5023762697680936, 1.1051865500563736)\n",
      "Log-normal, skewness\n",
      "(5.3399468173232174, 1.5023762697680936, 1.7086814081053541)\n"
     ]
    }
   ],
   "source": [
    "import numpy as np\n",
    "import scipy.stats as ss\n",
    "sigma = 1\n",
    "mu = 0\n",
    "n = 1000\n",
    "real_norm_sk = 0\n",
    "real_norm_median = mu\n",
    "real_norm_mean = mu\n",
    "real_log_mean = np.exp(mu + sigma * sigma / 2)\n",
    "real_log_median = np.exp(mu)\n",
    "real_log_sk = np.exp(sigma * sigma) + 2 * np.sqrt(np.exp(sigma * sigma) - 1)\n",
    "\n",
    "normal_sample = np.random.randn(n) * sigma + mu\n",
    "logn_sample = np.random.lognormal(mean=mu, sigma=sigma, size=n)\n",
    "\n",
    "\n",
    "def emp_mean(sample):\n",
    "    return np.sum(sample) / len(sample)\n",
    "\n",
    "def emp_median(sample):   \n",
    "    sort_sample = sorted(sample)\n",
    "    return sort_sample[len(sample) / 2]\n",
    "\n",
    "def emp_skewness(sample):\n",
    "    m = emp_mean(sample)\n",
    "    sample_bias = sample - m\n",
    "    multi = np.sum(sample_bias * sample_bias * sample_bias) / n\n",
    "    denominator = np.sum(sample_bias * sample_bias) / (n - 1)\n",
    "    denominator = np.sqrt(np.power(denominator, 3))\n",
    "    return multi / denominator\n",
    "\n",
    "def drop_one(sample, i):\n",
    "    return np.delete(sample, i)\n",
    "    \n",
    "def ps(statistic, sample, i):\n",
    "    dropped = drop_one(sample, i)\n",
    "    #print(statistic(sample))\n",
    "    return len(sample) * statistic(sample) - len(dropped) * statistic(dropped)\n",
    "\n",
    "def create_ps(statistic, sample):\n",
    "    pss = []\n",
    "    for i in range(n):        \n",
    "        pss.append(ps(statistic, sample, i))\n",
    "    return pss\n",
    "\n",
    "\n",
    "print(\"REAL | ESTIMATED from SAMPLE | JACKKNIFE\")\n",
    "print(\"Normal, mean\")\n",
    "print(real_norm_mean, emp_mean(normal_sample), emp_mean(create_ps(emp_mean, normal_sample)))\n",
    "\n",
    "print(\"Normal, skewness\")\n",
    "print(real_norm_sk, emp_mean(normal_sample), emp_mean(create_ps(emp_skewness, normal_sample)))\n",
    "\n",
    "print(\"Normal, median\")\n",
    "print(real_norm_median, emp_mean(normal_sample), emp_mean(create_ps(emp_median, normal_sample)))\n",
    "\n",
    "\n",
    "print(\"Log-normal, mean\")\n",
    "print(real_log_mean, emp_mean(logn_sample), emp_mean(create_ps(emp_mean, logn_sample)))\n",
    "\n",
    "print(\"Log-normal, median\")\n",
    "print(real_log_median, emp_mean(logn_sample), emp_mean(create_ps(emp_median, logn_sample)))\n",
    "\n",
    "print(\"Log-normal, skewness\")\n",
    "print(real_log_sk, emp_mean(logn_sample), emp_mean(create_ps(emp_skewness, logn_sample)))"
   ]
  },
  {
   "cell_type": "code",
   "execution_count": null,
   "metadata": {
    "collapsed": true
   },
   "outputs": [],
   "source": []
  }
 ],
 "metadata": {
  "kernelspec": {
   "display_name": "Python [conda root]",
   "language": "python",
   "name": "conda-root-py"
  },
  "language_info": {
   "codemirror_mode": {
    "name": "ipython",
    "version": 2
   },
   "file_extension": ".py",
   "mimetype": "text/x-python",
   "name": "python",
   "nbconvert_exporter": "python",
   "pygments_lexer": "ipython2",
   "version": "2.7.12"
  }
 },
 "nbformat": 4,
 "nbformat_minor": 2
}
