{
 "cells": [
  {
   "cell_type": "markdown",
   "metadata": {},
   "source": [
    "# Assignment 1"
   ]
  },
  {
   "cell_type": "markdown",
   "metadata": {},
   "source": [
    "Preparing data"
   ]
  },
  {
   "cell_type": "code",
   "execution_count": 162,
   "metadata": {
    "collapsed": true
   },
   "outputs": [],
   "source": [
    "import matplotlib.pyplot as plt\n",
    "from scipy.optimize import minimize\n",
    "import pandas as pd\n",
    "import numpy as np\n",
    "\n",
    "\n",
    "data1 = pd.read_csv(\"ds-boot-1.csv\", delimiter=\"\\t\")\n",
    "data2 = pd.read_csv(\"ds-boot-2.csv\", delimiter=\"\\t\")\n",
    "\n",
    "y = []\n",
    "ys = 5\n",
    "xs = 26\n",
    "y.append([])\n",
    "for i in range(1, 5):\n",
    "    name = 'y' + str(i)\n",
    "    y.append(data2[name])\n",
    "    \n",
    "x = data2.loc[:,'p1':'p26']   \n",
    "    "
   ]
  },
  {
   "cell_type": "markdown",
   "metadata": {},
   "source": [
    "Finding mean and median"
   ]
  },
  {
   "cell_type": "code",
   "execution_count": 151,
   "metadata": {
    "collapsed": false
   },
   "outputs": [
    {
     "name": "stdout",
     "output_type": "stream",
     "text": [
      "y1:\n",
      "Mean, square error:\n",
      "(4.0009999999999994, 0.44553296310387758)\n",
      "Median, median:\n",
      "(4.0650000000000004, 0.55004591176601347)\n",
      "- - - - - - - - - - - - - - - - - -\n",
      "y2:\n",
      "Mean, square error:\n",
      "(5.4611874999999994, 0.42545772940903176)\n",
      "Median, median:\n",
      "(3.9900000000000002, 0.5880974288828219)\n",
      "- - - - - - - - - - - - - - - - - -\n",
      "y3:\n",
      "Mean, square error:\n",
      "(7.2934274999999991, 0.46515233913718856)\n",
      "Median, median:\n",
      "(3.9500000000000002, 0.58603271532768841)\n",
      "- - - - - - - - - - - - - - - - - -\n",
      "y4:\n",
      "Mean, square error:\n",
      "(1.5251724999999998, 0.11376711046246976)\n",
      "Median, median:\n",
      "(4.0025000000000004, 0.53476960960168196)\n",
      "- - - - - - - - - - - - - - - - - -\n"
     ]
    }
   ],
   "source": [
    "\n",
    "#returns bootstrap sample from the given sample the same size\n",
    "def gen_boot_sample(sample):\n",
    "    n = len(sample)\n",
    "    res = []\n",
    "    for i in range(n):\n",
    "        ind = int (np.random.rand() * n)\n",
    "        res.append(sample[ind])        \n",
    "    return res\n",
    "   \n",
    "\n",
    "#generates size bootstrap samples\n",
    "def gen_boot_samples(sample, size):\n",
    "    samples = []\n",
    "    for i in range(size):\n",
    "        samples.append(gen_boot_sample(sample))\n",
    "    return samples\n",
    "\n",
    "\n",
    "\n",
    "#returns Q*_b and SE\n",
    "def boot_estimation(sample, size, func):\n",
    "    boot_samples = gen_boot_samples(sample, size)\n",
    "    res = list(map(func, boot_samples))\n",
    "    q_star = np.mean(res)    \n",
    "    dif = (res - q_star) *(res - q_star)\n",
    "    se = np.sum(dif) / (size - 1)\n",
    "    se = np.sqrt(se)    \n",
    "    return q_star, se \n",
    "    \n",
    "bootstrap_size = 100    \n",
    "    \n",
    "for i in range(1, ys):  \n",
    "    print(\"y\" + str(i) + \":\")\n",
    "    print(\"Mean, square error:\")\n",
    "    print(boot_estimation(y[i], bootstrap_size , np.mean))\n",
    "\n",
    "    print(\"Median, median:\")\n",
    "    print(boot_estimation(y[1], bootstrap_size , np.median))\n",
    "    print(\"- - - - - - - - - - - - - - - - - -\")"
   ]
  },
  {
   "cell_type": "code",
   "execution_count": 159,
   "metadata": {
    "collapsed": false
   },
   "outputs": [],
   "source": [
    "#Experiments with number of bootstrap samples\n",
    "errors = []\n",
    "sizes = []\n",
    "for b_size in range(3, 1000):\n",
    "    res = boot_estimation(y[i], b_size , np.mean)\n",
    "    errors.append(res[1])\n",
    "    sizes.append(b_size)"
   ]
  },
  {
   "cell_type": "code",
   "execution_count": 157,
   "metadata": {
    "collapsed": false
   },
   "outputs": [
    {
     "data": {
      "image/png": "[encoded data removed]",
      "text/plain": [
       "<matplotlib.figure.Figure at 0x7f7f78ac4150>"
      ]
     },
     "metadata": {},
     "output_type": "display_data"
    }
   ],
   "source": [
    "plt.plot(sizes, errors)\n",
    "plt.show()"
   ]
  },
  {
   "cell_type": "markdown",
   "metadata": {
    "collapsed": true
   },
   "source": [
    "Linear model: confidence intervals"
   ]
  },
  {
   "cell_type": "code",
   "execution_count": 150,
   "metadata": {
    "collapsed": false
   },
   "outputs": [
    {
     "name": "stdout",
     "output_type": "stream",
     "text": [
      "Linear model coefficients for first y, last coefficient is free:\n",
      "[  4.25044974e-01  -9.50331049e-02  -4.85459207e-01   9.76937043e-01\n",
      "  -3.45391352e-01   7.93654457e-01  -1.03891777e+00  -2.39555290e-01\n",
      "  -3.51465253e-01  -2.05030008e-02   7.58507828e-01  -1.65532451e-01\n",
      "   2.12583748e-01   3.12275421e-02  -5.88750176e-01   2.24325296e-01\n",
      "   4.80507090e-01  -9.97469001e-02  -4.14684603e-01  -1.97776807e-01\n",
      "   5.31977768e-01   3.64852098e-04   4.74761601e-01  -4.87963791e-01\n",
      "   4.05700585e-01  -2.13727017e-02  -8.66731161e-02]\n",
      "(0.023350129743587543, 4.3653527461747572)\n"
     ]
    }
   ],
   "source": [
    "\n",
    "\n",
    "def find_linear_coef_all(data):\n",
    "    data = np.transpose(data)\n",
    "    n = len(data[0])\n",
    "    num = len(data)\n",
    "    \n",
    "    \n",
    "    x = data[:][0:(num - 1)]\n",
    "    x = np.transpose(x)\n",
    "    y = data[:][(num - 2):(num - 1)]\n",
    "    y = np.transpose(y)\n",
    "    \n",
    "    #for i in range(n - 1):        \n",
    "    #   x[i].append(1)\n",
    "    #   print(x[i])\n",
    "    \n",
    "    xt = np.transpose(x)\n",
    "    \n",
    "    \n",
    "    theta = np.dot(xt, x)\n",
    "    theta = np.linalg.inv(theta)\n",
    "    theta = np.dot(theta, xt)\n",
    "    theta = np.dot(theta, y)\n",
    "    return theta\n",
    "\n",
    "\n",
    "def find_linear_coef(x, y):    \n",
    "    num = x.shape[0]\n",
    "    appendix = np.transpose(np.ones(num))\n",
    "    x['free'] = appendix    \n",
    "    xt = np.transpose(x)\n",
    "    theta = np.linalg.inv(np.dot(xt, x))\n",
    "    theta = np.dot(theta, xt)\n",
    "    theta = np.dot(theta, y)\n",
    "    return theta\n",
    "\n",
    "\n",
    "\n",
    "def gen_boot_sample_ND(y_num):\n",
    "    n = len(data2)\n",
    "    \n",
    "    y_name = 'y' + str(y_num)        \n",
    "    res = []\n",
    "    for i in range(n):\n",
    "        ind = int (np.random.rand() * n)\n",
    "        r = []\n",
    "        for i in range(1, 26):\n",
    "            x_name = 'p' + str(i)\n",
    "            r.append(data2[x_name][ind])\n",
    "        res.append(r)\n",
    "    return res\n",
    "   \n",
    "\n",
    "#generates size bootstrap samples\n",
    "def gen_boot_samples_ND(y_num, size):\n",
    "    samples = []\n",
    "    for i in range(size):\n",
    "        samples.append(gen_boot_sample_ND(y_num))\n",
    "    return samples\n",
    "\n",
    "def boot_estimation_ND(y_num, size, func):\n",
    "    boot_samples = gen_boot_samples_ND(y_num, size)\n",
    "    res = list(map(func, boot_samples))\n",
    "    q_star = np.mean(res)    \n",
    "    dif = (res - q_star) *(res - q_star)\n",
    "    se = np.sum(dif) / (size - 1)\n",
    "    se = np.sqrt(se)  \n",
    "    e = (res - q_star)\n",
    "    return q_star, se\n",
    "\n",
    "def confidence_interval_ND(y_num, size, func):\n",
    "    boot_samples = gen_boot_samples_ND(y_num, size)\n",
    "    res = list(map(func, boot_samples))\n",
    "    q_star = np.mean(res)    \n",
    "    dif = (res - q_star) *(res - q_star)\n",
    "    er = np.sum(dif) / (size - 1)\n",
    "    er = np.sqrt(se) \n",
    "    e = (res - np.percentile(er, 2.5, axis = 0), res + np.percentile(er, 97.5, axis = 0))\n",
    "    return e \n",
    "    \n",
    "bootstrap_size_ND = 5  \n",
    "\n",
    " \n",
    "print('Linear model coefficients for first y, last coefficient is free:')\n",
    "print(find_linear_coef(x, y[1]))\n",
    "\n",
    "#print(gen_boot_samples_ND(1, bootstrap_size_ND))\n",
    "for \n",
    "print(boot_estimation_ND(1, bootstrap_size_ND, find_linear_coef_all))\n",
    "\n",
    "\n",
    "\n"
   ]
  },
  {
   "cell_type": "markdown",
   "metadata": {},
   "source": [
    "# Assignment 2"
   ]
  },
  {
   "cell_type": "code",
   "execution_count": 179,
   "metadata": {
    "collapsed": false
   },
   "outputs": [
    {
     "name": "stdout",
     "output_type": "stream",
     "text": [
      "(array([  8.52256485e+03,   1.86485536e-03]), 106308245.87646618)\n"
     ]
    },
    {
     "data": {
      "image/png": "[encoded data removed]",
      "text/plain": [
       "<matplotlib.figure.Figure at 0x7f7f6e505b10>"
      ]
     },
     "metadata": {},
     "output_type": "display_data"
    },
    {
     "name": "stderr",
     "output_type": "stream",
     "text": [
      "/home/ekaterina/anaconda/lib/python2.7/site-packages/ipykernel/__main__.py:12: RuntimeWarning: overflow encountered in square\n"
     ]
    },
    {
     "name": "stdout",
     "output_type": "stream",
     "text": [
      "('a = ', 2798.5118445672801)\n",
      "('b = ', 264.69946052801259)\n",
      "Confidence interval for a: (2450.55680295, 3240.61406892)\n",
      "Confidence interval for b: (212.698607473, 758.007577927)\n"
     ]
    }
   ],
   "source": [
    "def goel_oku(a, b, t):\n",
    "    return (a * (1 - (1 + b * t)* np.exp(-1 * b * t)))\n",
    "\n",
    "a_start = 5900\n",
    "b_start = 0.0035\n",
    "def stat_func(args):\n",
    "    t = np.arange(len(data1['cummBugs']))\n",
    "    return ((data1['cummBugs'] - goel_oku(args[0], args[1], t)) ** 2).sum() \n",
    "\n",
    "def parameter_func(args, y):\n",
    "    t = np.arange(len(y))\n",
    "    return ((y - goel_oku(args[0], args[1], t)) ** 2).sum()\n",
    "\n",
    "def conf_int_assig2(data, b_size):\n",
    "    samples = np.random.choice(data, size=(b_size, len(data)))\n",
    "    parameters = []\n",
    "    for sample in samples:\n",
    "        y = np.cumsum(sample)\n",
    "        parameters.append(minimize(parameter_func, [a], y, method='Nelder-Mead').x)       \n",
    "\n",
    "    parameters = np.array(parameters)\n",
    "    res = parameters.mean(axis=0)\n",
    "    conf_int = np.percentile(parameters, [2.5, 97.5], axis=0)\n",
    "    return res, conf_int\n",
    "    \n",
    "    \n",
    "\n",
    "optima = minimize(stat_func, [a_start, b_start], method='Nelder-Mead')\n",
    "print(optima.x, optima.fun)\n",
    "\n",
    "x = np.arange(len(data1['cummBugs']))\n",
    "y = goel_oku(optima.x[0], optima.x[1], x)\n",
    "\n",
    "\n",
    "plt.plot(data1['cummBugs'])\n",
    "plt.plot(y)\n",
    "plt.show()\n",
    "\n",
    "   \n",
    "bootstrap_size = 1000\n",
    "data = data1['bugsPerDay']\n",
    "res, conf_int = conf_int_assig2(data, bootstrap_size)\n",
    "print(\"a = \", res[0])\n",
    "print(\"b = \", res[1])\n",
    "print(\"Confidence interval for a: (\" + str(conf_int[0][0]) + \", \" + str(conf_int[1][0]) + \")\")\n",
    "print(\"Confidence interval for b: (\" + str(conf_int[0][1]) + \", \" + str(conf_int[1][1]) + \")\")"
   ]
  },
  {
   "cell_type": "code",
   "execution_count": null,
   "metadata": {
    "collapsed": true
   },
   "outputs": [],
   "source": []
  },
  {
   "cell_type": "code",
   "execution_count": null,
   "metadata": {
    "collapsed": true
   },
   "outputs": [],
   "source": []
  }
 ],
 "metadata": {
  "anaconda-cloud": {},
  "kernelspec": {
   "display_name": "Python [conda root]",
   "language": "python",
   "name": "conda-root-py"
  },
  "language_info": {
   "codemirror_mode": {
    "name": "ipython",
    "version": 2
   },
   "file_extension": ".py",
   "mimetype": "text/x-python",
   "name": "python",
   "nbconvert_exporter": "python",
   "pygments_lexer": "ipython2",
   "version": "2.7.12"
  }
 },
 "nbformat": 4,
 "nbformat_minor": 2
}
