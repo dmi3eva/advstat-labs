{
 "cells": [
  {
   "cell_type": "markdown",
   "metadata": {},
   "source": [
    "# Lab 04\n",
    "## Central Limit Theorem (CLT)\n",
    "\n",
    "\n",
    "The theorem says that under rather general circumstances, if you sum *independent* random variables and normalize\n",
    "them accordingly, then at the limit (when you sum lots of them) you’ll get a normal distribution.\n",
    "\n",
    "The classical version of CLT states that:\n",
    "\n",
    "Suppose that $X_i$ are independent, identically distributed random variables with mean $\\mu$ and variance $\\sigma^2$.\n",
    "\n",
    "Then $\\frac{\\sum_i^n{X_i} - n\\mu }{\\sigma \\sqrt{n}} \\rightarrow N (0, 1).$\n",
    "\n",
    "The meaning of $Y_n \\rightarrow Y$ is as follows: for each interval [a, b],\n",
    "$Pr[a ≤ Y_n ≤ b]  \\rightarrow Pr[a ≤ Y ≤ b].$\n",
    "\n",
    "Note that the type of distribution of $X_i$ is not specified.\n"
   ]
  },
  {
   "cell_type": "markdown",
   "metadata": {},
   "source": [
    "### Exercise 0\n",
    "Let $S_n = \\sum_{i=1}^{n}U_i$ for $n = 1, 2,..., 12$ - the sum of 12 uniform distributions. \n",
    "\n",
    "What is the mean and the variance?\n",
    "\n",
    "Sample from $S_n$ 1000 times and plot the histogram of its normalized sample distribution ($\\frac{\\sum_i^n{X_i} - n\\mu }{\\sigma \\sqrt{n}}$).\n",
    "Plot the pdf for asymptotic Gaussian."
   ]
  },
  {
   "cell_type": "code",
   "execution_count": 1,
   "metadata": {
    "collapsed": true
   },
   "outputs": [],
   "source": [
    "import numpy as np\n",
    "np.random.seed(42)\n",
    "N = 12\n",
    "samples = np.zeros(1000)\n",
    "for i in xrange(1000):\n",
    "    u = np.random.uniform(size=N)\n",
    "    samples[i] = np.sum(u) - (N/2)"
   ]
  },
  {
   "cell_type": "code",
   "execution_count": 2,
   "metadata": {
    "collapsed": false
   },
   "outputs": [
    {
     "data": {
      "image/png": "[encoded data removed]",
      "text/plain": [
       "<matplotlib.figure.Figure at 0x7f493e695b10>"
      ]
     },
     "metadata": {},
     "output_type": "display_data"
    }
   ],
   "source": [
    "import matplotlib.pyplot as plt\n",
    "from scipy.stats import norm\n",
    "%matplotlib inline\n",
    "# 1\n",
    "x = np.linspace(-3,3)\n",
    "plt.hist(samples, 30, normed=True);\n",
    "dist_asympt = norm(0,1)\n",
    "plt.plot(x, dist_asympt.pdf(x));\n"
   ]
  },
  {
   "cell_type": "markdown",
   "metadata": {},
   "source": [
    "### Exercise 1\n",
    "Without the usage of statistical packages sample from binomial distribution (imitating 5 coin tosses) 10000 times. \n",
    "\n",
    "Plot the histogram of sample distribution (with any convenient packages).\n",
    "\n",
    "Plot the pdf of a Gaussian to which the binomial distribution should converge asymptotically. The parameters for this Gaussian can be estimated using CLT, consider the binomial distribution as a distribution of the sum of independent random variables.\n",
    "\n",
    "Repeat the same procedure for 10 and 100 coin tosses."
   ]
  },
  {
   "cell_type": "code",
   "execution_count": 117,
   "metadata": {
    "collapsed": false
   },
   "outputs": [],
   "source": [
    "# 1. sample from binomial distribution (n=100) without using statistical packages.\n",
    "import math\n",
    "def experiments (num):\n",
    "        np.random.seed()\n",
    "        res = 0\n",
    "        for k in range(num):\n",
    "            exp = np.random.randint(0, high = 2)\n",
    "            res = res + exp\n",
    "        return res\n",
    "        \n",
    "def generate_binomial(b_size, b_num_exp):\n",
    "    array = np.zeros(b_size)\n",
    "    for j in range(b_size):\n",
    "        array[j] = experiments(b_num_exp)\n",
    "    return array\n",
    "            \n",
    "size = 10000\n",
    "num_exp = 5\n",
    "n = 100 \n",
    "p = 0.5\n",
    "binomial_samples = np.zeros(n)\n",
    "\n",
    "for i in xrange(n):    \n",
    "    u = generate_binomial(size, num_exp)    \n",
    "    binomial_samples[i] = (np.sum(u) - size * num_exp * p) / (math.sqrt(size) * num_exp * p * (1 - p))\n",
    "\n",
    "\n",
    "\n",
    "\n"
   ]
  },
  {
   "cell_type": "code",
   "execution_count": 147,
   "metadata": {
    "collapsed": false
   },
   "outputs": [
    {
     "data": {
      "text/plain": [
       "[<matplotlib.lines.Line2D at 0x7f492541e290>]"
      ]
     },
     "execution_count": 147,
     "metadata": {},
     "output_type": "execute_result"
    },
    {
     "data": {
      "image/png": "[encoded data removed]",
      "text/plain": [
       "<matplotlib.figure.Figure at 0x7f49267648d0>"
      ]
     },
     "metadata": {},
     "output_type": "display_data"
    }
   ],
   "source": [
    "# 2. plot the histogram of sample and pdf of a Gaussian.\n",
    "\n",
    "import matplotlib.pyplot as plt\n",
    "import math\n",
    "from scipy.stats import norm\n",
    "%matplotlib inline\n",
    "bin_x = np.linspace(-3, 3)\n",
    "plt.hist(binomial_samples, 10, normed = True)\n",
    "\n",
    "\n",
    "dist_asympt = norm(0, 1)\n",
    "plt.plot(bin_x, dist_asympt.pdf(bin_x))"
   ]
  },
  {
   "cell_type": "code",
   "execution_count": 133,
   "metadata": {
    "collapsed": false
   },
   "outputs": [
    {
     "data": {
      "text/plain": [
       "[<matplotlib.lines.Line2D at 0x7f4928485ed0>]"
      ]
     },
     "execution_count": 133,
     "metadata": {},
     "output_type": "execute_result"
    },
    {
     "data": {
      "image/png": "[encoded data removed]",
      "text/plain": [
       "<matplotlib.figure.Figure at 0x7f49285180d0>"
      ]
     },
     "metadata": {},
     "output_type": "display_data"
    }
   ],
   "source": [
    "# 3. repeat the same procedure with n = 10.\n",
    "size = 10000\n",
    "num_exp = 5\n",
    "n = 10 \n",
    "p = 0.5\n",
    "binomial_samples = np.zeros(n)\n",
    "\n",
    "for i in xrange(n):    \n",
    "    u = generate_binomial(size, num_exp)    \n",
    "    binomial_samples[i] = (np.sum(u) - size * num_exp * p) / (math.sqrt(size) * num_exp * p * (1 - p))\n",
    "\n",
    "\n",
    "plt.hist(binomial_samples, normed = True)\n",
    "\n",
    "\n",
    "dist_asympt = norm(0, 1)\n",
    "plt.plot(bin_x, dist_asympt.pdf(bin_x))"
   ]
  },
  {
   "cell_type": "code",
   "execution_count": 191,
   "metadata": {
    "collapsed": false
   },
   "outputs": [
    {
     "data": {
      "text/plain": [
       "[<matplotlib.lines.Line2D at 0x7f4932bef3d0>]"
      ]
     },
     "execution_count": 191,
     "metadata": {},
     "output_type": "execute_result"
    },
    {
     "data": {
      "image/png": "[encoded data removed]",
      "text/plain": [
       "<matplotlib.figure.Figure at 0x7f4932286c50>"
      ]
     },
     "metadata": {},
     "output_type": "display_data"
    }
   ],
   "source": [
    "# 3. repeat the same procedure with n = 1000.\n",
    "size = 10000\n",
    "num_exp = 5\n",
    "n = 1000 \n",
    "p = 0.5\n",
    "binomial_samples = np.zeros(n)\n",
    "\n",
    "for i in xrange(n):    \n",
    "    u = generate_binomial(size, num_exp)    \n",
    "    binomial_samples[i] = (np.sum(u) - size * num_exp * p) / (math.sqrt(size) * num_exp * p * (1 - p))\n",
    "\n",
    "\n",
    "plt.hist(binomial_samples, normed = True)\n",
    "\n",
    "\n",
    "dist_asympt = norm(0, 1)\n",
    "plt.plot(bin_x, dist_asympt.pdf(bin_x))"
   ]
  },
  {
   "cell_type": "markdown",
   "metadata": {},
   "source": [
    "### Exercise 2"
   ]
  },
  {
   "cell_type": "markdown",
   "metadata": {},
   "source": [
    "The average height of adult male in Russia is 177.2 cm with standard deviation 7.42.\n",
    "We suppose that the distribution of the height is Gaussain.\n",
    "Imagine that we take samples of 100 men and measure their height. What will be the distribution of the means for these samples?\n",
    "\n",
    "\n",
    "Depict the original distribution.\n",
    "\n",
    "Make random samples of size 100 from original distribution.\n",
    "Depict the empirical distribution of the sample means and the asymptotical distribution of sample means from CLT."
   ]
  },
  {
   "cell_type": "code",
   "execution_count": 168,
   "metadata": {
    "collapsed": false
   },
   "outputs": [
    {
     "data": {
      "text/plain": [
       "[<matplotlib.lines.Line2D at 0x7f49328d2b90>]"
      ]
     },
     "execution_count": 168,
     "metadata": {},
     "output_type": "execute_result"
    },
    {
     "data": {
      "image/png": "[encoded data removed]",
      "text/plain": [
       "<matplotlib.figure.Figure at 0x7f4927bd2890>"
      ]
     },
     "metadata": {},
     "output_type": "display_data"
    }
   ],
   "source": [
    "# 1. Depict the original distribution of male height.\n",
    "\n",
    "height_mean = 177.2\n",
    "height_variance = 7.42\n",
    "\n",
    "height_x = np.linspace(100, 250)\n",
    "dist_asympt_hyp = norm(height_mean, height_variance)\n",
    "plt.plot(height_x, dist_asympt_hyp.pdf(height_x))\n",
    "\n"
   ]
  },
  {
   "cell_type": "code",
   "execution_count": 188,
   "metadata": {
    "collapsed": true
   },
   "outputs": [],
   "source": [
    "# 2. Make random samples of size 100\n",
    "\n",
    "norm_samples = []\n",
    "N = 100\n",
    "M = 100\n",
    "for i in xrange(N):\n",
    "    u = np.random.normal(height_mean, height_variance, size=M)\n",
    "    norm_samples.append(u)\n",
    "    \n"
   ]
  },
  {
   "cell_type": "code",
   "execution_count": 190,
   "metadata": {
    "collapsed": false
   },
   "outputs": [
    {
     "data": {
      "text/plain": [
       "[<matplotlib.lines.Line2D at 0x7f492cf493d0>]"
      ]
     },
     "execution_count": 190,
     "metadata": {},
     "output_type": "execute_result"
    },
    {
     "data": {
      "image/png": "[encoded data removed]",
      "text/plain": [
       "<matplotlib.figure.Figure at 0x7f4927e74310>"
      ]
     },
     "metadata": {},
     "output_type": "display_data"
    }
   ],
   "source": [
    "# 3. Depict the empirical distribution of the sample means and \n",
    "# the asymptotical distribution of sample means from CLT\n",
    "\n",
    "u_for_hist = np. zeros(N)\n",
    "\n",
    "for i in xrange(N):\n",
    "    u_for_hist[i] = norm_samples[i].mean()\n",
    "\n",
    "norm_x = np.linspace(160, 200)\n",
    "plt.hist(u_for_hist, 10, normed = True)\n",
    "\n",
    "dist_asympt = norm(height_mean, height_variance * height_variance / M)\n",
    "plt.plot(norm_x, dist_asympt.pdf(norm_x))\n"
   ]
  },
  {
   "cell_type": "markdown",
   "metadata": {},
   "source": [
    "## Multiple comparison problem\n",
    "\n"
   ]
  },
  {
   "cell_type": "markdown",
   "metadata": {},
   "source": [
    "When many correlation coefficients are calculated from a given set of data, the risk of obtaining significant results by chance is increased.\n",
    "\n",
    "There are several algorithms to deal with this problem.\n",
    "Let's say we fix our level of type I error to $\\alpha$.\n",
    "\n",
    "**Bonferroni**\n",
    "\n",
    "Bonferroni method simply reduces $\\alpha$ level to $\\frac{\\alpha}{k}$ where $k$ - the number of comparisons.\n",
    "\n",
    "It is very conservative though quite popular for its simplicity.\n",
    "\n",
    "\n",
    "**Holm**\n",
    "\n",
    "For Holm correction you should sort p-values in ascending order and find the smallest one that satisfies: $p>\\frac{\\alpha}{k+1−i}$, where $i$ is the index in sorted array. \n",
    "\n",
    "This p-value and the ones that are larger are considered insignificant.\n",
    "\n",
    "**Benjamini-Hochberg**\n",
    "\n",
    "In ordered array of p-values find the largest one that satisfies: $p≤\\frac{i}{k}\\alpha$. Then this p-value and all smaller ones are considered significant.\n",
    "\n",
    "The first two procedures control *Family Wise Error Rate* (FWER) i.e. the probability of making at least 1 error of type I. Both Bonferroni and Holm guarantee that the FWER will be not more than given level $\\alpha$.\n",
    "\n",
    "While the last method works with *False Discovery Rate* (FDR) controling the expected number of type I errors. It is then less conservative. Benjamini-Hochberg guarantees that the expected proportion of false discoveries (type I errors) over all discoveries (rejected null hypothesis) is not greater then given $\\alpha$."
   ]
  },
  {
   "cell_type": "markdown",
   "metadata": {},
   "source": [
    "### Exercise 3\n",
    "*Description*\n",
    "\n",
    "There is a hypothesis that some genes are responsible for human body height. \n",
    "\n",
    "Full genome sequencing was performed for 2535 people from different countries i.e. the full sequence of DNA was obtained. The DNA sequence is encoded in 4 letters corresponding to different nucleotides ('A','C','G','T').\n",
    "\n",
    "SNP (Single Nucleotide Polymorphism) is a position in genome where variation of 1 nucleotide exists in population.\n",
    "For example, most of the people can have nucleotide 'A' in this position, while some others have nucleotide 'C'.\n",
    "\n",
    "You are given the data of 5 SNP's. The data is encoded in *0,1,2*. *0* corresponds to most popular variation, *2* - less popular, *1* - is the mix of both variations (remember, we inherit 2 variants from both parents).\n",
    "\n",
    "\n",
    "*Task*\n",
    "\n",
    "1. Read the data from 'data/snp.csv' file. \n",
    "\n",
    "1. Perform the 1-way ANOVA test to check whether the means of 'Height' differ in groups.\n",
    "Get the p-value for each SNP.\n",
    "\n",
    "1. Perform the correction of the multiple comparison using any method (any library).\n",
    "\n",
    "1. Make a conclusion about which SNP are connected with the human height and which are not."
   ]
  },
  {
   "cell_type": "code",
   "execution_count": 235,
   "metadata": {
    "collapsed": false
   },
   "outputs": [
    {
     "name": "stdout",
     "output_type": "stream",
     "text": [
      "p-values:\n",
      "3.04465007411e-09\n",
      "2.48347619421e-20\n",
      "0.0215208824689\n",
      "0.0268116332849\n",
      "0.537427050043\n",
      "\n",
      "Corrected alpha with Holms method:  0.0215208824689\n",
      "rs7859940  gene's SNP is connected with height of person by this test.\n",
      "rs10816533  gene's SNP is connected with height of person by this test.\n",
      "rs16966703 gene's SNP isn't connected with height of person by this test.\n",
      "rs2793701 gene's SNP isn't connected with height of person by this test.\n",
      "rs7606245 gene's SNP isn't connected with height of person by this test.\n"
     ]
    }
   ],
   "source": [
    "import pandas as pd\n",
    "import scipy.stats as stats\n",
    "\n",
    "features = ['rs7859940', 'rs10816533', 'rs16966703', 'rs2793701', 'rs7606245']\n",
    "data = pd.read_csv('./data/snp.csv')\n",
    "pvals = []\n",
    "print('p-values:')\n",
    "for gene in features:    \n",
    "    print(stats.f_oneway(data[data[gene] == 0]['Height'], data[data[gene] == 1]['Height'], data[data[gene] == 2]['Height']).pvalue)\n",
    "    pvals.append(stats.f_oneway(data[data[gene] == 0]['Height'], data[data[gene] == 1]['Height'], data[data[gene] == 2]['Height']).pvalue)\n",
    "    \n",
    "def holm(p_vals, alpha, k):\n",
    "    p_vals = sorted(p_vals)\n",
    "    \n",
    "    for i in range(len(p_vals)):\n",
    "        if (p_vals[i] > alpha / (k + 1 - i)):\n",
    "            break\n",
    "    return p_vals[i]\n",
    "\n",
    "\n",
    "alpha_corrected = holm(pvals, 0.05, 5)\n",
    "print '\\nCorrected alpha with Holms method: ', alpha_corrected\n",
    "\n",
    "\n",
    "for ind in range(len(features)):\n",
    "    if (pvals[ind] < alpha_corrected):\n",
    "        print features[ind], ' gene\\'s SNP is connected with height of person by this test.'\n",
    "    else:\n",
    "        print features[ind], 'gene\\'s SNP isn\\'t connected with height of person by this test.'"
   ]
  },
  {
   "cell_type": "code",
   "execution_count": null,
   "metadata": {
    "collapsed": true
   },
   "outputs": [],
   "source": []
  }
 ],
 "metadata": {
  "kernelspec": {
   "display_name": "Python [conda root]",
   "language": "python",
   "name": "conda-root-py"
  },
  "language_info": {
   "codemirror_mode": {
    "name": "ipython",
    "version": 2
   },
   "file_extension": ".py",
   "mimetype": "text/x-python",
   "name": "python",
   "nbconvert_exporter": "python",
   "pygments_lexer": "ipython2",
   "version": "2.7.12"
  }
 },
 "nbformat": 4,
 "nbformat_minor": 2
}
